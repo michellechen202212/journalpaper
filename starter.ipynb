{
  "cells": [
    {
      "cell_type": "markdown",
      "metadata": {
        "id": "view-in-github",
        "colab_type": "text"
      },
      "source": [
        "<a href=\"https://colab.research.google.com/github/michellechen202212/journalpaper/blob/main/starter.ipynb\" target=\"_parent\"><img src=\"https://colab.research.google.com/assets/colab-badge.svg\" alt=\"Open In Colab\"/></a>"
      ]
    },
    {
      "cell_type": "markdown",
      "metadata": {
        "id": "shrvjyBk0_vc"
      },
      "source": [
        "# Pipeline Project"
      ]
    },
    {
      "cell_type": "markdown",
      "source": [
        "# New Section"
      ],
      "metadata": {
        "id": "PxFRKEyB1B1b"
      }
    },
    {
      "cell_type": "markdown",
      "metadata": {
        "id": "Xj6OBQA50_ve"
      },
      "source": [
        "You will be using the provided data to create a machine learning model pipeline.\n",
        "\n",
        "You must handle the data appropriately in your pipeline to predict whether an\n",
        "item is recommended by a customer based on their review.\n",
        "Note the data includes numerical, categorical, and text data.\n",
        "\n",
        "You should ensure you properly train and evaluate your model."
      ]
    },
    {
      "cell_type": "markdown",
      "metadata": {
        "id": "YBiEzhRL0_ve"
      },
      "source": [
        "## The Data"
      ]
    },
    {
      "cell_type": "markdown",
      "metadata": {
        "id": "tmo-edJw0_vf"
      },
      "source": [
        "The dataset has been anonymized and cleaned of missing values.\n",
        "\n",
        "There are 8 features for to use to predict whether a customer recommends or does\n",
        "not recommend a product.\n",
        "The `Recommended IND` column gives whether a customer recommends the product\n",
        "where `1` is recommended and a `0` is not recommended.\n",
        "This is your model's target/"
      ]
    },
    {
      "cell_type": "markdown",
      "metadata": {
        "id": "HmJ_CUMv0_vf"
      },
      "source": [
        "The features can be summarized as the following:\n",
        "\n",
        "- **Clothing ID**: Integer Categorical variable that refers to the specific piece being reviewed.\n",
        "- **Age**: Positive Integer variable of the reviewers age.\n",
        "- **Title**: String variable for the title of the review.\n",
        "- **Review Text**: String variable for the review body.\n",
        "- **Positive Feedback Count**: Positive Integer documenting the number of other customers who found this review positive.\n",
        "- **Division Name**: Categorical name of the product high level division.\n",
        "- **Department Name**: Categorical name of the product department name.\n",
        "- **Class Name**: Categorical name of the product class name.\n",
        "\n",
        "The target:\n",
        "- **Recommended IND**: Binary variable stating where the customer recommends the product where 1 is recommended, 0 is not recommended."
      ]
    },
    {
      "cell_type": "markdown",
      "metadata": {
        "id": "CjqTICFs0_vf"
      },
      "source": [
        "## Load Data"
      ]
    },
    {
      "cell_type": "code",
      "execution_count": null,
      "metadata": {
        "colab": {
          "base_uri": "https://localhost:8080/",
          "height": 495
        },
        "id": "yExoNBvc0_vf",
        "outputId": "66c853f1-b802-4dc0-8286-043a078d7b83"
      },
      "outputs": [
        {
          "output_type": "stream",
          "name": "stdout",
          "text": [
            "<class 'pandas.core.frame.DataFrame'>\n",
            "RangeIndex: 18442 entries, 0 to 18441\n",
            "Data columns (total 9 columns):\n",
            " #   Column                   Non-Null Count  Dtype \n",
            "---  ------                   --------------  ----- \n",
            " 0   Clothing ID              18442 non-null  int64 \n",
            " 1   Age                      18442 non-null  int64 \n",
            " 2   Title                    18442 non-null  object\n",
            " 3   Review Text              18442 non-null  object\n",
            " 4   Positive Feedback Count  18442 non-null  int64 \n",
            " 5   Division Name            18442 non-null  object\n",
            " 6   Department Name          18442 non-null  object\n",
            " 7   Class Name               18442 non-null  object\n",
            " 8   Recommended IND          18442 non-null  int64 \n",
            "dtypes: int64(4), object(5)\n",
            "memory usage: 1.3+ MB\n"
          ]
        },
        {
          "output_type": "execute_result",
          "data": {
            "text/plain": [
              "   Clothing ID  Age                    Title  \\\n",
              "0         1077   60  Some major design flaws   \n",
              "1         1049   50         My favorite buy!   \n",
              "2          847   47         Flattering shirt   \n",
              "3         1080   49  Not for the very petite   \n",
              "4          858   39     Cagrcoal shimmer fun   \n",
              "\n",
              "                                         Review Text  Positive Feedback Count  \\\n",
              "0  I had such high hopes for this dress and reall...                        0   \n",
              "1  I love, love, love this jumpsuit. it's fun, fl...                        0   \n",
              "2  This shirt is very flattering to all due to th...                        6   \n",
              "3  I love tracy reese dresses, but this one is no...                        4   \n",
              "4  I aded this in my basket at hte last mintue to...                        1   \n",
              "\n",
              "    Division Name Department Name Class Name  Recommended IND  \n",
              "0         General         Dresses    Dresses                0  \n",
              "1  General Petite         Bottoms      Pants                1  \n",
              "2         General            Tops    Blouses                1  \n",
              "3         General         Dresses    Dresses                0  \n",
              "4  General Petite            Tops      Knits                1  "
            ],
            "text/html": [
              "\n",
              "  <div id=\"df-5995ebb0-698e-4e2f-9c72-4937f21346a4\" class=\"colab-df-container\">\n",
              "    <div>\n",
              "<style scoped>\n",
              "    .dataframe tbody tr th:only-of-type {\n",
              "        vertical-align: middle;\n",
              "    }\n",
              "\n",
              "    .dataframe tbody tr th {\n",
              "        vertical-align: top;\n",
              "    }\n",
              "\n",
              "    .dataframe thead th {\n",
              "        text-align: right;\n",
              "    }\n",
              "</style>\n",
              "<table border=\"1\" class=\"dataframe\">\n",
              "  <thead>\n",
              "    <tr style=\"text-align: right;\">\n",
              "      <th></th>\n",
              "      <th>Clothing ID</th>\n",
              "      <th>Age</th>\n",
              "      <th>Title</th>\n",
              "      <th>Review Text</th>\n",
              "      <th>Positive Feedback Count</th>\n",
              "      <th>Division Name</th>\n",
              "      <th>Department Name</th>\n",
              "      <th>Class Name</th>\n",
              "      <th>Recommended IND</th>\n",
              "    </tr>\n",
              "  </thead>\n",
              "  <tbody>\n",
              "    <tr>\n",
              "      <th>0</th>\n",
              "      <td>1077</td>\n",
              "      <td>60</td>\n",
              "      <td>Some major design flaws</td>\n",
              "      <td>I had such high hopes for this dress and reall...</td>\n",
              "      <td>0</td>\n",
              "      <td>General</td>\n",
              "      <td>Dresses</td>\n",
              "      <td>Dresses</td>\n",
              "      <td>0</td>\n",
              "    </tr>\n",
              "    <tr>\n",
              "      <th>1</th>\n",
              "      <td>1049</td>\n",
              "      <td>50</td>\n",
              "      <td>My favorite buy!</td>\n",
              "      <td>I love, love, love this jumpsuit. it's fun, fl...</td>\n",
              "      <td>0</td>\n",
              "      <td>General Petite</td>\n",
              "      <td>Bottoms</td>\n",
              "      <td>Pants</td>\n",
              "      <td>1</td>\n",
              "    </tr>\n",
              "    <tr>\n",
              "      <th>2</th>\n",
              "      <td>847</td>\n",
              "      <td>47</td>\n",
              "      <td>Flattering shirt</td>\n",
              "      <td>This shirt is very flattering to all due to th...</td>\n",
              "      <td>6</td>\n",
              "      <td>General</td>\n",
              "      <td>Tops</td>\n",
              "      <td>Blouses</td>\n",
              "      <td>1</td>\n",
              "    </tr>\n",
              "    <tr>\n",
              "      <th>3</th>\n",
              "      <td>1080</td>\n",
              "      <td>49</td>\n",
              "      <td>Not for the very petite</td>\n",
              "      <td>I love tracy reese dresses, but this one is no...</td>\n",
              "      <td>4</td>\n",
              "      <td>General</td>\n",
              "      <td>Dresses</td>\n",
              "      <td>Dresses</td>\n",
              "      <td>0</td>\n",
              "    </tr>\n",
              "    <tr>\n",
              "      <th>4</th>\n",
              "      <td>858</td>\n",
              "      <td>39</td>\n",
              "      <td>Cagrcoal shimmer fun</td>\n",
              "      <td>I aded this in my basket at hte last mintue to...</td>\n",
              "      <td>1</td>\n",
              "      <td>General Petite</td>\n",
              "      <td>Tops</td>\n",
              "      <td>Knits</td>\n",
              "      <td>1</td>\n",
              "    </tr>\n",
              "  </tbody>\n",
              "</table>\n",
              "</div>\n",
              "    <div class=\"colab-df-buttons\">\n",
              "\n",
              "  <div class=\"colab-df-container\">\n",
              "    <button class=\"colab-df-convert\" onclick=\"convertToInteractive('df-5995ebb0-698e-4e2f-9c72-4937f21346a4')\"\n",
              "            title=\"Convert this dataframe to an interactive table.\"\n",
              "            style=\"display:none;\">\n",
              "\n",
              "  <svg xmlns=\"http://www.w3.org/2000/svg\" height=\"24px\" viewBox=\"0 -960 960 960\">\n",
              "    <path d=\"M120-120v-720h720v720H120Zm60-500h600v-160H180v160Zm220 220h160v-160H400v160Zm0 220h160v-160H400v160ZM180-400h160v-160H180v160Zm440 0h160v-160H620v160ZM180-180h160v-160H180v160Zm440 0h160v-160H620v160Z\"/>\n",
              "  </svg>\n",
              "    </button>\n",
              "\n",
              "  <style>\n",
              "    .colab-df-container {\n",
              "      display:flex;\n",
              "      gap: 12px;\n",
              "    }\n",
              "\n",
              "    .colab-df-convert {\n",
              "      background-color: #E8F0FE;\n",
              "      border: none;\n",
              "      border-radius: 50%;\n",
              "      cursor: pointer;\n",
              "      display: none;\n",
              "      fill: #1967D2;\n",
              "      height: 32px;\n",
              "      padding: 0 0 0 0;\n",
              "      width: 32px;\n",
              "    }\n",
              "\n",
              "    .colab-df-convert:hover {\n",
              "      background-color: #E2EBFA;\n",
              "      box-shadow: 0px 1px 2px rgba(60, 64, 67, 0.3), 0px 1px 3px 1px rgba(60, 64, 67, 0.15);\n",
              "      fill: #174EA6;\n",
              "    }\n",
              "\n",
              "    .colab-df-buttons div {\n",
              "      margin-bottom: 4px;\n",
              "    }\n",
              "\n",
              "    [theme=dark] .colab-df-convert {\n",
              "      background-color: #3B4455;\n",
              "      fill: #D2E3FC;\n",
              "    }\n",
              "\n",
              "    [theme=dark] .colab-df-convert:hover {\n",
              "      background-color: #434B5C;\n",
              "      box-shadow: 0px 1px 3px 1px rgba(0, 0, 0, 0.15);\n",
              "      filter: drop-shadow(0px 1px 2px rgba(0, 0, 0, 0.3));\n",
              "      fill: #FFFFFF;\n",
              "    }\n",
              "  </style>\n",
              "\n",
              "    <script>\n",
              "      const buttonEl =\n",
              "        document.querySelector('#df-5995ebb0-698e-4e2f-9c72-4937f21346a4 button.colab-df-convert');\n",
              "      buttonEl.style.display =\n",
              "        google.colab.kernel.accessAllowed ? 'block' : 'none';\n",
              "\n",
              "      async function convertToInteractive(key) {\n",
              "        const element = document.querySelector('#df-5995ebb0-698e-4e2f-9c72-4937f21346a4');\n",
              "        const dataTable =\n",
              "          await google.colab.kernel.invokeFunction('convertToInteractive',\n",
              "                                                    [key], {});\n",
              "        if (!dataTable) return;\n",
              "\n",
              "        const docLinkHtml = 'Like what you see? Visit the ' +\n",
              "          '<a target=\"_blank\" href=https://colab.research.google.com/notebooks/data_table.ipynb>data table notebook</a>'\n",
              "          + ' to learn more about interactive tables.';\n",
              "        element.innerHTML = '';\n",
              "        dataTable['output_type'] = 'display_data';\n",
              "        await google.colab.output.renderOutput(dataTable, element);\n",
              "        const docLink = document.createElement('div');\n",
              "        docLink.innerHTML = docLinkHtml;\n",
              "        element.appendChild(docLink);\n",
              "      }\n",
              "    </script>\n",
              "  </div>\n",
              "\n",
              "\n",
              "<div id=\"df-f6c9b5ee-fdc0-4242-a75d-800eee0beba3\">\n",
              "  <button class=\"colab-df-quickchart\" onclick=\"quickchart('df-f6c9b5ee-fdc0-4242-a75d-800eee0beba3')\"\n",
              "            title=\"Suggest charts\"\n",
              "            style=\"display:none;\">\n",
              "\n",
              "<svg xmlns=\"http://www.w3.org/2000/svg\" height=\"24px\"viewBox=\"0 0 24 24\"\n",
              "     width=\"24px\">\n",
              "    <g>\n",
              "        <path d=\"M19 3H5c-1.1 0-2 .9-2 2v14c0 1.1.9 2 2 2h14c1.1 0 2-.9 2-2V5c0-1.1-.9-2-2-2zM9 17H7v-7h2v7zm4 0h-2V7h2v10zm4 0h-2v-4h2v4z\"/>\n",
              "    </g>\n",
              "</svg>\n",
              "  </button>\n",
              "\n",
              "<style>\n",
              "  .colab-df-quickchart {\n",
              "      --bg-color: #E8F0FE;\n",
              "      --fill-color: #1967D2;\n",
              "      --hover-bg-color: #E2EBFA;\n",
              "      --hover-fill-color: #174EA6;\n",
              "      --disabled-fill-color: #AAA;\n",
              "      --disabled-bg-color: #DDD;\n",
              "  }\n",
              "\n",
              "  [theme=dark] .colab-df-quickchart {\n",
              "      --bg-color: #3B4455;\n",
              "      --fill-color: #D2E3FC;\n",
              "      --hover-bg-color: #434B5C;\n",
              "      --hover-fill-color: #FFFFFF;\n",
              "      --disabled-bg-color: #3B4455;\n",
              "      --disabled-fill-color: #666;\n",
              "  }\n",
              "\n",
              "  .colab-df-quickchart {\n",
              "    background-color: var(--bg-color);\n",
              "    border: none;\n",
              "    border-radius: 50%;\n",
              "    cursor: pointer;\n",
              "    display: none;\n",
              "    fill: var(--fill-color);\n",
              "    height: 32px;\n",
              "    padding: 0;\n",
              "    width: 32px;\n",
              "  }\n",
              "\n",
              "  .colab-df-quickchart:hover {\n",
              "    background-color: var(--hover-bg-color);\n",
              "    box-shadow: 0 1px 2px rgba(60, 64, 67, 0.3), 0 1px 3px 1px rgba(60, 64, 67, 0.15);\n",
              "    fill: var(--button-hover-fill-color);\n",
              "  }\n",
              "\n",
              "  .colab-df-quickchart-complete:disabled,\n",
              "  .colab-df-quickchart-complete:disabled:hover {\n",
              "    background-color: var(--disabled-bg-color);\n",
              "    fill: var(--disabled-fill-color);\n",
              "    box-shadow: none;\n",
              "  }\n",
              "\n",
              "  .colab-df-spinner {\n",
              "    border: 2px solid var(--fill-color);\n",
              "    border-color: transparent;\n",
              "    border-bottom-color: var(--fill-color);\n",
              "    animation:\n",
              "      spin 1s steps(1) infinite;\n",
              "  }\n",
              "\n",
              "  @keyframes spin {\n",
              "    0% {\n",
              "      border-color: transparent;\n",
              "      border-bottom-color: var(--fill-color);\n",
              "      border-left-color: var(--fill-color);\n",
              "    }\n",
              "    20% {\n",
              "      border-color: transparent;\n",
              "      border-left-color: var(--fill-color);\n",
              "      border-top-color: var(--fill-color);\n",
              "    }\n",
              "    30% {\n",
              "      border-color: transparent;\n",
              "      border-left-color: var(--fill-color);\n",
              "      border-top-color: var(--fill-color);\n",
              "      border-right-color: var(--fill-color);\n",
              "    }\n",
              "    40% {\n",
              "      border-color: transparent;\n",
              "      border-right-color: var(--fill-color);\n",
              "      border-top-color: var(--fill-color);\n",
              "    }\n",
              "    60% {\n",
              "      border-color: transparent;\n",
              "      border-right-color: var(--fill-color);\n",
              "    }\n",
              "    80% {\n",
              "      border-color: transparent;\n",
              "      border-right-color: var(--fill-color);\n",
              "      border-bottom-color: var(--fill-color);\n",
              "    }\n",
              "    90% {\n",
              "      border-color: transparent;\n",
              "      border-bottom-color: var(--fill-color);\n",
              "    }\n",
              "  }\n",
              "</style>\n",
              "\n",
              "  <script>\n",
              "    async function quickchart(key) {\n",
              "      const quickchartButtonEl =\n",
              "        document.querySelector('#' + key + ' button');\n",
              "      quickchartButtonEl.disabled = true;  // To prevent multiple clicks.\n",
              "      quickchartButtonEl.classList.add('colab-df-spinner');\n",
              "      try {\n",
              "        const charts = await google.colab.kernel.invokeFunction(\n",
              "            'suggestCharts', [key], {});\n",
              "      } catch (error) {\n",
              "        console.error('Error during call to suggestCharts:', error);\n",
              "      }\n",
              "      quickchartButtonEl.classList.remove('colab-df-spinner');\n",
              "      quickchartButtonEl.classList.add('colab-df-quickchart-complete');\n",
              "    }\n",
              "    (() => {\n",
              "      let quickchartButtonEl =\n",
              "        document.querySelector('#df-f6c9b5ee-fdc0-4242-a75d-800eee0beba3 button');\n",
              "      quickchartButtonEl.style.display =\n",
              "        google.colab.kernel.accessAllowed ? 'block' : 'none';\n",
              "    })();\n",
              "  </script>\n",
              "</div>\n",
              "\n",
              "    </div>\n",
              "  </div>\n"
            ],
            "application/vnd.google.colaboratory.intrinsic+json": {
              "type": "dataframe",
              "variable_name": "df",
              "summary": "{\n  \"name\": \"df\",\n  \"rows\": 18442,\n  \"fields\": [\n    {\n      \"column\": \"Clothing ID\",\n      \"properties\": {\n        \"dtype\": \"number\",\n        \"std\": 141,\n        \"min\": 2,\n        \"max\": 1205,\n        \"num_unique_values\": 531,\n        \"samples\": [\n          449,\n          1065,\n          323\n        ],\n        \"semantic_type\": \"\",\n        \"description\": \"\"\n      }\n    },\n    {\n      \"column\": \"Age\",\n      \"properties\": {\n        \"dtype\": \"number\",\n        \"std\": 12,\n        \"min\": 18,\n        \"max\": 99,\n        \"num_unique_values\": 77,\n        \"samples\": [\n          39,\n          52,\n          33\n        ],\n        \"semantic_type\": \"\",\n        \"description\": \"\"\n      }\n    },\n    {\n      \"column\": \"Title\",\n      \"properties\": {\n        \"dtype\": \"string\",\n        \"num_unique_values\": 13142,\n        \"samples\": [\n          \"Very beautiful, just as pictured\",\n          \"Call me infatuated...\",\n          \"Not if you have bigger breasts\"\n        ],\n        \"semantic_type\": \"\",\n        \"description\": \"\"\n      }\n    },\n    {\n      \"column\": \"Review Text\",\n      \"properties\": {\n        \"dtype\": \"string\",\n        \"num_unique_values\": 18439,\n        \"samples\": [\n          \"Purchased to speak at an event. not only is it very eye catching and i garnered many compliments it fit like it was made for me and was comfortable to wear. i questioned ordering a 4 and possibly could have worn a 6 but with the elasticity to the material there was no problem with movement or sitting and i felt hugged in in all the right places!\",\n          \"I want to love this dress. the colors and pattern are gorgeous, and i love the hemline. but something seems off in the chest and shoulders area. it almost feels a little slouch-y.\",\n          \"This was adorable, but looks much better on the lean, flat chested model. i am only 110 lbs and 5'4\\\" but i am curvy and it just didn't do me any justice so i will be returning. i think this would look better on someone more flat chested, because it really accentuates the bust.\"\n        ],\n        \"semantic_type\": \"\",\n        \"description\": \"\"\n      }\n    },\n    {\n      \"column\": \"Positive Feedback Count\",\n      \"properties\": {\n        \"dtype\": \"number\",\n        \"std\": 5,\n        \"min\": 0,\n        \"max\": 122,\n        \"num_unique_values\": 79,\n        \"samples\": [\n          37,\n          0,\n          29\n        ],\n        \"semantic_type\": \"\",\n        \"description\": \"\"\n      }\n    },\n    {\n      \"column\": \"Division Name\",\n      \"properties\": {\n        \"dtype\": \"category\",\n        \"num_unique_values\": 2,\n        \"samples\": [\n          \"General Petite\",\n          \"General\"\n        ],\n        \"semantic_type\": \"\",\n        \"description\": \"\"\n      }\n    },\n    {\n      \"column\": \"Department Name\",\n      \"properties\": {\n        \"dtype\": \"category\",\n        \"num_unique_values\": 6,\n        \"samples\": [\n          \"Dresses\",\n          \"Bottoms\"\n        ],\n        \"semantic_type\": \"\",\n        \"description\": \"\"\n      }\n    },\n    {\n      \"column\": \"Class Name\",\n      \"properties\": {\n        \"dtype\": \"category\",\n        \"num_unique_values\": 14,\n        \"samples\": [\n          \"Trend\",\n          \"Jeans\"\n        ],\n        \"semantic_type\": \"\",\n        \"description\": \"\"\n      }\n    },\n    {\n      \"column\": \"Recommended IND\",\n      \"properties\": {\n        \"dtype\": \"number\",\n        \"std\": 0,\n        \"min\": 0,\n        \"max\": 1,\n        \"num_unique_values\": 2,\n        \"samples\": [\n          1,\n          0\n        ],\n        \"semantic_type\": \"\",\n        \"description\": \"\"\n      }\n    }\n  ]\n}"
            }
          },
          "metadata": {},
          "execution_count": 3
        }
      ],
      "source": [
        "import pandas as pd\n",
        "\n",
        "# Load data\n",
        "df = pd.read_csv(\n",
        "    'sample_data/reviews.csv',\n",
        ")\n",
        "\n",
        "df.info()\n",
        "df.head()"
      ]
    },
    {
      "cell_type": "markdown",
      "source": [
        "# **Preparing features (X) & target (y)**"
      ],
      "metadata": {
        "id": "oM-A6Tp_3YWh"
      }
    },
    {
      "cell_type": "code",
      "source": [
        "data = df\n",
        "\n",
        "# separate features from labels\n",
        "X = data.drop('Recommended IND', axis=1)\n",
        "y = data['Recommended IND'].copy()\n",
        "\n",
        "print('Labels:', y.unique())\n",
        "print('Features:')\n",
        "display(X.head())\n",
        "# Split data into train and test sets\n",
        "from sklearn.model_selection import train_test_split\n",
        "\n",
        "X_train, X_test, y_train, y_test = train_test_split(\n",
        "    X,\n",
        "    y,\n",
        "    test_size=0.1,\n",
        "    shuffle=True,\n",
        "    random_state=27,\n",
        ")"
      ],
      "metadata": {
        "colab": {
          "base_uri": "https://localhost:8080/",
          "height": 242
        },
        "id": "AinC1jhC3LnF",
        "outputId": "24f89605-e466-4021-abb6-1b4e21278caf"
      },
      "execution_count": null,
      "outputs": [
        {
          "output_type": "stream",
          "name": "stdout",
          "text": [
            "Labels: [0 1]\n",
            "Features:\n"
          ]
        },
        {
          "output_type": "display_data",
          "data": {
            "text/plain": [
              "   Clothing ID  Age                    Title  \\\n",
              "0         1077   60  Some major design flaws   \n",
              "1         1049   50         My favorite buy!   \n",
              "2          847   47         Flattering shirt   \n",
              "3         1080   49  Not for the very petite   \n",
              "4          858   39     Cagrcoal shimmer fun   \n",
              "\n",
              "                                         Review Text  Positive Feedback Count  \\\n",
              "0  I had such high hopes for this dress and reall...                        0   \n",
              "1  I love, love, love this jumpsuit. it's fun, fl...                        0   \n",
              "2  This shirt is very flattering to all due to th...                        6   \n",
              "3  I love tracy reese dresses, but this one is no...                        4   \n",
              "4  I aded this in my basket at hte last mintue to...                        1   \n",
              "\n",
              "    Division Name Department Name Class Name  \n",
              "0         General         Dresses    Dresses  \n",
              "1  General Petite         Bottoms      Pants  \n",
              "2         General            Tops    Blouses  \n",
              "3         General         Dresses    Dresses  \n",
              "4  General Petite            Tops      Knits  "
            ],
            "text/html": [
              "\n",
              "  <div id=\"df-da82e58a-a53f-4b08-a61d-3f58779fe5fe\" class=\"colab-df-container\">\n",
              "    <div>\n",
              "<style scoped>\n",
              "    .dataframe tbody tr th:only-of-type {\n",
              "        vertical-align: middle;\n",
              "    }\n",
              "\n",
              "    .dataframe tbody tr th {\n",
              "        vertical-align: top;\n",
              "    }\n",
              "\n",
              "    .dataframe thead th {\n",
              "        text-align: right;\n",
              "    }\n",
              "</style>\n",
              "<table border=\"1\" class=\"dataframe\">\n",
              "  <thead>\n",
              "    <tr style=\"text-align: right;\">\n",
              "      <th></th>\n",
              "      <th>Clothing ID</th>\n",
              "      <th>Age</th>\n",
              "      <th>Title</th>\n",
              "      <th>Review Text</th>\n",
              "      <th>Positive Feedback Count</th>\n",
              "      <th>Division Name</th>\n",
              "      <th>Department Name</th>\n",
              "      <th>Class Name</th>\n",
              "    </tr>\n",
              "  </thead>\n",
              "  <tbody>\n",
              "    <tr>\n",
              "      <th>0</th>\n",
              "      <td>1077</td>\n",
              "      <td>60</td>\n",
              "      <td>Some major design flaws</td>\n",
              "      <td>I had such high hopes for this dress and reall...</td>\n",
              "      <td>0</td>\n",
              "      <td>General</td>\n",
              "      <td>Dresses</td>\n",
              "      <td>Dresses</td>\n",
              "    </tr>\n",
              "    <tr>\n",
              "      <th>1</th>\n",
              "      <td>1049</td>\n",
              "      <td>50</td>\n",
              "      <td>My favorite buy!</td>\n",
              "      <td>I love, love, love this jumpsuit. it's fun, fl...</td>\n",
              "      <td>0</td>\n",
              "      <td>General Petite</td>\n",
              "      <td>Bottoms</td>\n",
              "      <td>Pants</td>\n",
              "    </tr>\n",
              "    <tr>\n",
              "      <th>2</th>\n",
              "      <td>847</td>\n",
              "      <td>47</td>\n",
              "      <td>Flattering shirt</td>\n",
              "      <td>This shirt is very flattering to all due to th...</td>\n",
              "      <td>6</td>\n",
              "      <td>General</td>\n",
              "      <td>Tops</td>\n",
              "      <td>Blouses</td>\n",
              "    </tr>\n",
              "    <tr>\n",
              "      <th>3</th>\n",
              "      <td>1080</td>\n",
              "      <td>49</td>\n",
              "      <td>Not for the very petite</td>\n",
              "      <td>I love tracy reese dresses, but this one is no...</td>\n",
              "      <td>4</td>\n",
              "      <td>General</td>\n",
              "      <td>Dresses</td>\n",
              "      <td>Dresses</td>\n",
              "    </tr>\n",
              "    <tr>\n",
              "      <th>4</th>\n",
              "      <td>858</td>\n",
              "      <td>39</td>\n",
              "      <td>Cagrcoal shimmer fun</td>\n",
              "      <td>I aded this in my basket at hte last mintue to...</td>\n",
              "      <td>1</td>\n",
              "      <td>General Petite</td>\n",
              "      <td>Tops</td>\n",
              "      <td>Knits</td>\n",
              "    </tr>\n",
              "  </tbody>\n",
              "</table>\n",
              "</div>\n",
              "    <div class=\"colab-df-buttons\">\n",
              "\n",
              "  <div class=\"colab-df-container\">\n",
              "    <button class=\"colab-df-convert\" onclick=\"convertToInteractive('df-da82e58a-a53f-4b08-a61d-3f58779fe5fe')\"\n",
              "            title=\"Convert this dataframe to an interactive table.\"\n",
              "            style=\"display:none;\">\n",
              "\n",
              "  <svg xmlns=\"http://www.w3.org/2000/svg\" height=\"24px\" viewBox=\"0 -960 960 960\">\n",
              "    <path d=\"M120-120v-720h720v720H120Zm60-500h600v-160H180v160Zm220 220h160v-160H400v160Zm0 220h160v-160H400v160ZM180-400h160v-160H180v160Zm440 0h160v-160H620v160ZM180-180h160v-160H180v160Zm440 0h160v-160H620v160Z\"/>\n",
              "  </svg>\n",
              "    </button>\n",
              "\n",
              "  <style>\n",
              "    .colab-df-container {\n",
              "      display:flex;\n",
              "      gap: 12px;\n",
              "    }\n",
              "\n",
              "    .colab-df-convert {\n",
              "      background-color: #E8F0FE;\n",
              "      border: none;\n",
              "      border-radius: 50%;\n",
              "      cursor: pointer;\n",
              "      display: none;\n",
              "      fill: #1967D2;\n",
              "      height: 32px;\n",
              "      padding: 0 0 0 0;\n",
              "      width: 32px;\n",
              "    }\n",
              "\n",
              "    .colab-df-convert:hover {\n",
              "      background-color: #E2EBFA;\n",
              "      box-shadow: 0px 1px 2px rgba(60, 64, 67, 0.3), 0px 1px 3px 1px rgba(60, 64, 67, 0.15);\n",
              "      fill: #174EA6;\n",
              "    }\n",
              "\n",
              "    .colab-df-buttons div {\n",
              "      margin-bottom: 4px;\n",
              "    }\n",
              "\n",
              "    [theme=dark] .colab-df-convert {\n",
              "      background-color: #3B4455;\n",
              "      fill: #D2E3FC;\n",
              "    }\n",
              "\n",
              "    [theme=dark] .colab-df-convert:hover {\n",
              "      background-color: #434B5C;\n",
              "      box-shadow: 0px 1px 3px 1px rgba(0, 0, 0, 0.15);\n",
              "      filter: drop-shadow(0px 1px 2px rgba(0, 0, 0, 0.3));\n",
              "      fill: #FFFFFF;\n",
              "    }\n",
              "  </style>\n",
              "\n",
              "    <script>\n",
              "      const buttonEl =\n",
              "        document.querySelector('#df-da82e58a-a53f-4b08-a61d-3f58779fe5fe button.colab-df-convert');\n",
              "      buttonEl.style.display =\n",
              "        google.colab.kernel.accessAllowed ? 'block' : 'none';\n",
              "\n",
              "      async function convertToInteractive(key) {\n",
              "        const element = document.querySelector('#df-da82e58a-a53f-4b08-a61d-3f58779fe5fe');\n",
              "        const dataTable =\n",
              "          await google.colab.kernel.invokeFunction('convertToInteractive',\n",
              "                                                    [key], {});\n",
              "        if (!dataTable) return;\n",
              "\n",
              "        const docLinkHtml = 'Like what you see? Visit the ' +\n",
              "          '<a target=\"_blank\" href=https://colab.research.google.com/notebooks/data_table.ipynb>data table notebook</a>'\n",
              "          + ' to learn more about interactive tables.';\n",
              "        element.innerHTML = '';\n",
              "        dataTable['output_type'] = 'display_data';\n",
              "        await google.colab.output.renderOutput(dataTable, element);\n",
              "        const docLink = document.createElement('div');\n",
              "        docLink.innerHTML = docLinkHtml;\n",
              "        element.appendChild(docLink);\n",
              "      }\n",
              "    </script>\n",
              "  </div>\n",
              "\n",
              "\n",
              "<div id=\"df-d2844843-607e-445e-b754-75dd70c70943\">\n",
              "  <button class=\"colab-df-quickchart\" onclick=\"quickchart('df-d2844843-607e-445e-b754-75dd70c70943')\"\n",
              "            title=\"Suggest charts\"\n",
              "            style=\"display:none;\">\n",
              "\n",
              "<svg xmlns=\"http://www.w3.org/2000/svg\" height=\"24px\"viewBox=\"0 0 24 24\"\n",
              "     width=\"24px\">\n",
              "    <g>\n",
              "        <path d=\"M19 3H5c-1.1 0-2 .9-2 2v14c0 1.1.9 2 2 2h14c1.1 0 2-.9 2-2V5c0-1.1-.9-2-2-2zM9 17H7v-7h2v7zm4 0h-2V7h2v10zm4 0h-2v-4h2v4z\"/>\n",
              "    </g>\n",
              "</svg>\n",
              "  </button>\n",
              "\n",
              "<style>\n",
              "  .colab-df-quickchart {\n",
              "      --bg-color: #E8F0FE;\n",
              "      --fill-color: #1967D2;\n",
              "      --hover-bg-color: #E2EBFA;\n",
              "      --hover-fill-color: #174EA6;\n",
              "      --disabled-fill-color: #AAA;\n",
              "      --disabled-bg-color: #DDD;\n",
              "  }\n",
              "\n",
              "  [theme=dark] .colab-df-quickchart {\n",
              "      --bg-color: #3B4455;\n",
              "      --fill-color: #D2E3FC;\n",
              "      --hover-bg-color: #434B5C;\n",
              "      --hover-fill-color: #FFFFFF;\n",
              "      --disabled-bg-color: #3B4455;\n",
              "      --disabled-fill-color: #666;\n",
              "  }\n",
              "\n",
              "  .colab-df-quickchart {\n",
              "    background-color: var(--bg-color);\n",
              "    border: none;\n",
              "    border-radius: 50%;\n",
              "    cursor: pointer;\n",
              "    display: none;\n",
              "    fill: var(--fill-color);\n",
              "    height: 32px;\n",
              "    padding: 0;\n",
              "    width: 32px;\n",
              "  }\n",
              "\n",
              "  .colab-df-quickchart:hover {\n",
              "    background-color: var(--hover-bg-color);\n",
              "    box-shadow: 0 1px 2px rgba(60, 64, 67, 0.3), 0 1px 3px 1px rgba(60, 64, 67, 0.15);\n",
              "    fill: var(--button-hover-fill-color);\n",
              "  }\n",
              "\n",
              "  .colab-df-quickchart-complete:disabled,\n",
              "  .colab-df-quickchart-complete:disabled:hover {\n",
              "    background-color: var(--disabled-bg-color);\n",
              "    fill: var(--disabled-fill-color);\n",
              "    box-shadow: none;\n",
              "  }\n",
              "\n",
              "  .colab-df-spinner {\n",
              "    border: 2px solid var(--fill-color);\n",
              "    border-color: transparent;\n",
              "    border-bottom-color: var(--fill-color);\n",
              "    animation:\n",
              "      spin 1s steps(1) infinite;\n",
              "  }\n",
              "\n",
              "  @keyframes spin {\n",
              "    0% {\n",
              "      border-color: transparent;\n",
              "      border-bottom-color: var(--fill-color);\n",
              "      border-left-color: var(--fill-color);\n",
              "    }\n",
              "    20% {\n",
              "      border-color: transparent;\n",
              "      border-left-color: var(--fill-color);\n",
              "      border-top-color: var(--fill-color);\n",
              "    }\n",
              "    30% {\n",
              "      border-color: transparent;\n",
              "      border-left-color: var(--fill-color);\n",
              "      border-top-color: var(--fill-color);\n",
              "      border-right-color: var(--fill-color);\n",
              "    }\n",
              "    40% {\n",
              "      border-color: transparent;\n",
              "      border-right-color: var(--fill-color);\n",
              "      border-top-color: var(--fill-color);\n",
              "    }\n",
              "    60% {\n",
              "      border-color: transparent;\n",
              "      border-right-color: var(--fill-color);\n",
              "    }\n",
              "    80% {\n",
              "      border-color: transparent;\n",
              "      border-right-color: var(--fill-color);\n",
              "      border-bottom-color: var(--fill-color);\n",
              "    }\n",
              "    90% {\n",
              "      border-color: transparent;\n",
              "      border-bottom-color: var(--fill-color);\n",
              "    }\n",
              "  }\n",
              "</style>\n",
              "\n",
              "  <script>\n",
              "    async function quickchart(key) {\n",
              "      const quickchartButtonEl =\n",
              "        document.querySelector('#' + key + ' button');\n",
              "      quickchartButtonEl.disabled = true;  // To prevent multiple clicks.\n",
              "      quickchartButtonEl.classList.add('colab-df-spinner');\n",
              "      try {\n",
              "        const charts = await google.colab.kernel.invokeFunction(\n",
              "            'suggestCharts', [key], {});\n",
              "      } catch (error) {\n",
              "        console.error('Error during call to suggestCharts:', error);\n",
              "      }\n",
              "      quickchartButtonEl.classList.remove('colab-df-spinner');\n",
              "      quickchartButtonEl.classList.add('colab-df-quickchart-complete');\n",
              "    }\n",
              "    (() => {\n",
              "      let quickchartButtonEl =\n",
              "        document.querySelector('#df-d2844843-607e-445e-b754-75dd70c70943 button');\n",
              "      quickchartButtonEl.style.display =\n",
              "        google.colab.kernel.accessAllowed ? 'block' : 'none';\n",
              "    })();\n",
              "  </script>\n",
              "</div>\n",
              "\n",
              "    </div>\n",
              "  </div>\n"
            ],
            "application/vnd.google.colaboratory.intrinsic+json": {
              "type": "dataframe",
              "summary": "{\n  \"name\": \")\",\n  \"rows\": 5,\n  \"fields\": [\n    {\n      \"column\": \"Clothing ID\",\n      \"properties\": {\n        \"dtype\": \"number\",\n        \"std\": 119,\n        \"min\": 847,\n        \"max\": 1080,\n        \"num_unique_values\": 5,\n        \"samples\": [\n          1049,\n          858,\n          847\n        ],\n        \"semantic_type\": \"\",\n        \"description\": \"\"\n      }\n    },\n    {\n      \"column\": \"Age\",\n      \"properties\": {\n        \"dtype\": \"number\",\n        \"std\": 7,\n        \"min\": 39,\n        \"max\": 60,\n        \"num_unique_values\": 5,\n        \"samples\": [\n          50,\n          39,\n          47\n        ],\n        \"semantic_type\": \"\",\n        \"description\": \"\"\n      }\n    },\n    {\n      \"column\": \"Title\",\n      \"properties\": {\n        \"dtype\": \"string\",\n        \"num_unique_values\": 5,\n        \"samples\": [\n          \"My favorite buy!\",\n          \"Cagrcoal shimmer fun\",\n          \"Flattering shirt\"\n        ],\n        \"semantic_type\": \"\",\n        \"description\": \"\"\n      }\n    },\n    {\n      \"column\": \"Review Text\",\n      \"properties\": {\n        \"dtype\": \"string\",\n        \"num_unique_values\": 5,\n        \"samples\": [\n          \"I love, love, love this jumpsuit. it's fun, flirty, and fabulous! every time i wear it, i get nothing but great compliments!\",\n          \"I aded this in my basket at hte last mintue to see what it would look like in person. (store pick up). i went with teh darkler color only because i am so pale :-) hte color is really gorgeous, and turns out it mathced everythiing i was trying on with it prefectly. it is a little baggy on me and hte xs is hte msallet size (bummer, no petite). i decided to jkeep it though, because as i said, it matvehd everything. my ejans, pants, and the 3 skirts i waas trying on (of which i ]kept all ) oops.\",\n          \"This shirt is very flattering to all due to the adjustable front tie. it is the perfect length to wear with leggings and it is sleeveless so it pairs well with any cardigan. love this shirt!!!\"\n        ],\n        \"semantic_type\": \"\",\n        \"description\": \"\"\n      }\n    },\n    {\n      \"column\": \"Positive Feedback Count\",\n      \"properties\": {\n        \"dtype\": \"number\",\n        \"std\": 2,\n        \"min\": 0,\n        \"max\": 6,\n        \"num_unique_values\": 4,\n        \"samples\": [\n          6,\n          1,\n          0\n        ],\n        \"semantic_type\": \"\",\n        \"description\": \"\"\n      }\n    },\n    {\n      \"column\": \"Division Name\",\n      \"properties\": {\n        \"dtype\": \"category\",\n        \"num_unique_values\": 2,\n        \"samples\": [\n          \"General Petite\",\n          \"General\"\n        ],\n        \"semantic_type\": \"\",\n        \"description\": \"\"\n      }\n    },\n    {\n      \"column\": \"Department Name\",\n      \"properties\": {\n        \"dtype\": \"string\",\n        \"num_unique_values\": 3,\n        \"samples\": [\n          \"Dresses\",\n          \"Bottoms\"\n        ],\n        \"semantic_type\": \"\",\n        \"description\": \"\"\n      }\n    },\n    {\n      \"column\": \"Class Name\",\n      \"properties\": {\n        \"dtype\": \"string\",\n        \"num_unique_values\": 4,\n        \"samples\": [\n          \"Pants\",\n          \"Knits\"\n        ],\n        \"semantic_type\": \"\",\n        \"description\": \"\"\n      }\n    }\n  ]\n}"
            }
          },
          "metadata": {}
        }
      ]
    },
    {
      "cell_type": "markdown",
      "metadata": {
        "id": "I87gdfpP0_vh"
      },
      "source": [
        "# Your Work"
      ]
    },
    {
      "cell_type": "markdown",
      "metadata": {
        "id": "mxRswL5z0_vh"
      },
      "source": [
        "## Data Exploration\n",
        "\n",
        " Checking distributions, missing values, correlations, and balance of the target variable.\n"
      ]
    },
    {
      "cell_type": "code",
      "source": [],
      "metadata": {
        "id": "KLwC8Sx95MBT"
      },
      "execution_count": null,
      "outputs": []
    },
    {
      "cell_type": "code",
      "source": [
        "import matplotlib.pyplot as plt\n",
        "import seaborn as sns\n",
        "\n",
        "# Plot distribution of the target variable\n",
        "plt.figure(figsize=(6, 4))\n",
        "sns.countplot(x=df[\"Recommended IND\"], palette=\"viridis\")\n",
        "plt.title(\"Distribution of Recommended IND (Target Variable)\")\n",
        "plt.xlabel(\"Recommended (1) vs Not Recommended (0)\")\n",
        "plt.ylabel(\"Count\")\n",
        "plt.show()\n",
        "\n",
        "# Plot distribution of age\n",
        "plt.figure(figsize=(8, 5))\n",
        "sns.histplot(df[\"Age\"], bins=30, kde=True, color=\"blue\")\n",
        "plt.title(\"Age Distribution of Reviewers\")\n",
        "plt.xlabel(\"Age\")\n",
        "plt.ylabel(\"Count\")\n",
        "plt.show()\n",
        "\n",
        "# Check the most common department names\n",
        "plt.figure(figsize=(10, 5))\n",
        "sns.countplot(y=df[\"Department Name\"], order=df[\"Department Name\"].value_counts().index, palette=\"mako\")\n",
        "plt.title(\"Most Common Departments\")\n",
        "plt.xlabel(\"Count\")\n",
        "plt.ylabel(\"Department Name\")\n",
        "plt.show()\n"
      ],
      "metadata": {
        "colab": {
          "base_uri": "https://localhost:8080/",
          "height": 1000
        },
        "id": "CE5AEFmI32kc",
        "outputId": "7c7e5f12-c691-4dc4-b8dc-12525b614f8d"
      },
      "execution_count": null,
      "outputs": [
        {
          "output_type": "stream",
          "name": "stderr",
          "text": [
            "<ipython-input-5-a2ad0ce7b45c>:6: FutureWarning: \n",
            "\n",
            "Passing `palette` without assigning `hue` is deprecated and will be removed in v0.14.0. Assign the `x` variable to `hue` and set `legend=False` for the same effect.\n",
            "\n",
            "  sns.countplot(x=df[\"Recommended IND\"], palette=\"viridis\")\n"
          ]
        },
        {
          "output_type": "display_data",
          "data": {
            "text/plain": [
              "<Figure size 600x400 with 1 Axes>"
            ],
            "image/png": "[encoded data removed]"
          },
          "metadata": {}
        },
        {
          "output_type": "display_data",
          "data": {
            "text/plain": [
              "<Figure size 800x500 with 1 Axes>"
            ],
            "image/png": "[encoded data removed]"
          },
          "metadata": {}
        },
        {
          "output_type": "stream",
          "name": "stderr",
          "text": [
            "<ipython-input-5-a2ad0ce7b45c>:22: FutureWarning: \n",
            "\n",
            "Passing `palette` without assigning `hue` is deprecated and will be removed in v0.14.0. Assign the `y` variable to `hue` and set `legend=False` for the same effect.\n",
            "\n",
            "  sns.countplot(y=df[\"Department Name\"], order=df[\"Department Name\"].value_counts().index, palette=\"mako\")\n"
          ]
        },
        {
          "output_type": "display_data",
          "data": {
            "text/plain": [
              "<Figure size 1000x500 with 1 Axes>"
            ],
            "image/png": "[encoded data removed]"
          },
          "metadata": {}
        }
      ]
    },
    {
      "cell_type": "code",
      "source": [
        "from wordcloud import WordCloud\n",
        "\n",
        "# Combine all review texts into one string\n",
        "text_data = \" \".join(df[\"Review Text\"].dropna())\n",
        "\n",
        "# Generate a word cloud\n",
        "plt.figure(figsize=(10, 6))\n",
        "wordcloud = WordCloud(width=800, height=400, background_color=\"white\", colormap=\"viridis\").generate(text_data)\n",
        "plt.imshow(wordcloud, interpolation=\"bilinear\")\n",
        "plt.axis(\"off\")\n",
        "plt.title(\"Most Common Words in Review Texts\")\n",
        "plt.show()\n"
      ],
      "metadata": {
        "id": "7lNT8KLW4K0k"
      },
      "execution_count": null,
      "outputs": []
    },
    {
      "cell_type": "markdown",
      "source": [
        "The word cloud highlights the most frequently used words in the review texts. Common words likely include terms related to clothing fit, fabric, and quality."
      ],
      "metadata": {
        "id": "gPMxbayS4SyL"
      }
    },
    {
      "cell_type": "markdown",
      "source": [
        "EDA Insights:\n",
        "Target Variable Distribution:\n",
        "\n",
        "There are more recommended (1) than not recommended (0) products, indicating potential class imbalance.\n",
        "Age Distribution:\n",
        "\n",
        "Most reviewers are between 30 and 60 years old, with a peak around 40-50.\n",
        "Department Name Distribution:\n",
        "\n",
        "Some departments are much more frequently reviewed than others, which might affect model performance"
      ],
      "metadata": {
        "id": "wsb6jST83--s"
      }
    },
    {
      "cell_type": "markdown",
      "source": [],
      "metadata": {
        "id": "nX-REWzj4XHh"
      }
    },
    {
      "cell_type": "markdown",
      "source": [
        "Next Steps in Preprocessing:\n",
        "Text Processing for NLP:\n",
        "\n",
        "Convert text to lowercase.\n",
        "Remove punctuation and stopwords.\n",
        "Use TF-IDF or word embeddings for feature extraction.\n",
        "Feature Engineering:\n",
        "\n",
        "Encode categorical variables (e.g., Division Name, Department Name, Class Name).\n",
        "Scale numerical features (Age, Positive Feedback Count)."
      ],
      "metadata": {
        "id": "QWkAA6fN4dDu"
      }
    },
    {
      "cell_type": "markdown",
      "source": [
        "he final dataset has 1,025 features, successfully combining numerical, categorical, and text data into a sparse matrix.\n"
      ],
      "metadata": {
        "id": "wUb6dWgg5tAh"
      }
    },
    {
      "cell_type": "markdown",
      "metadata": {
        "id": "KORVlnrv0_vh"
      },
      "source": [
        "## Building Pipeline\n",
        "\n",
        "Using ColumnTransformer to preprocess numerical, categorical, and text features.\n"
      ]
    },
    {
      "cell_type": "markdown",
      "source": [
        "Model Performance (Logistic Regression)\n",
        "Accuracy: 87.8% (Strong overall performance)\n",
        "Class 1 (Recommended) Performance:\n",
        "Precision: 90%\n",
        "Recall: 96% (Excellent at predicting recommended products)\n",
        "Class 0 (Not Recommended) Performance:\n",
        "Precision: 72%\n",
        "Recall: 52% (Lower recall, meaning some non-recommended products are misclassified)\n",
        "F1-score: 0.93 (Recommended) vs. 0.60 (Not Recommended)"
      ],
      "metadata": {
        "id": "AbGjcYR96I6N"
      }
    },
    {
      "cell_type": "code",
      "source": [
        "from sklearn.pipeline import Pipeline\n",
        "from sklearn.compose import ColumnTransformer\n",
        "from sklearn.preprocessing import OneHotEncoder, StandardScaler\n",
        "from sklearn.feature_extraction.text import TfidfVectorizer\n",
        "from sklearn.ensemble import RandomForestClassifier\n",
        "\n",
        "# Define feature groups\n",
        "numerical_features = [\"Age\", \"Positive Feedback Count\"]\n",
        "categorical_features = [\"Division Name\", \"Department Name\", \"Class Name\"]\n",
        "text_features = [\"Title\", \"Review Text\"]\n",
        "\n",
        "# Define transformations\n",
        "numerical_transformer = StandardScaler()\n",
        "categorical_transformer = OneHotEncoder(handle_unknown=\"ignore\")\n",
        "text_transformer = TfidfVectorizer(stop_words=\"english\", max_features=500)\n",
        "\n",
        "# Column transformer to preprocess different feature types\n",
        "preprocessor = ColumnTransformer(\n",
        "    transformers=[\n",
        "        (\"num\", numerical_transformer, numerical_features),\n",
        "        (\"cat\", categorical_transformer, categorical_features),\n",
        "        (\"text_title\", text_transformer, \"Title\"),\n",
        "        (\"text_review\", text_transformer, \"Review Text\"),\n",
        "    ]\n",
        ")\n",
        "\n",
        "# Define model pipeline\n",
        "pipeline = Pipeline(\n",
        "    steps=[\n",
        "        (\"preprocessor\", preprocessor),\n",
        "        (\"classifier\", RandomForestClassifier(n_estimators=100, random_state=27)),\n",
        "    ]\n",
        ")\n",
        "\n",
        "\n"
      ],
      "metadata": {
        "id": "MWs2EB2G570t"
      },
      "execution_count": null,
      "outputs": []
    },
    {
      "cell_type": "markdown",
      "metadata": {
        "id": "NEsaS75M0_vh"
      },
      "source": [
        "## Training Pipeline\n",
        "Selecting an appropriate model and assessing its performance."
      ]
    },
    {
      "cell_type": "code",
      "source": [
        "# Train the pipeline\n",
        "pipeline.fit(X_train, y_train)\n",
        "\n",
        "# Evaluate on test set\n",
        "test_accuracy = pipeline.score(X_test, y_test)\n",
        "test_accuracy"
      ],
      "metadata": {
        "colab": {
          "base_uri": "https://localhost:8080/"
        },
        "id": "FVZvVpSS6Qd3",
        "outputId": "7ab85d05-f118-45ec-dfa6-6ac7106ec755"
      },
      "execution_count": null,
      "outputs": [
        {
          "output_type": "execute_result",
          "data": {
            "text/plain": [
              "0.8731707317073171"
            ]
          },
          "metadata": {},
          "execution_count": 9
        }
      ]
    },
    {
      "cell_type": "markdown",
      "metadata": {
        "id": "RosNI-900_vh"
      },
      "source": [
        "## Fine-Tuning Pipeline\n",
        "Optimizing hyperparameters for better results."
      ]
    },
    {
      "cell_type": "code",
      "source": [
        "import pandas as pd\n",
        "from sklearn.model_selection import train_test_split, RandomizedSearchCV\n",
        "from sklearn.pipeline import Pipeline\n",
        "from sklearn.compose import ColumnTransformer\n",
        "from sklearn.preprocessing import OneHotEncoder, StandardScaler\n",
        "from sklearn.feature_extraction.text import TfidfVectorizer\n",
        "from sklearn.ensemble import RandomForestClassifier\n",
        "import numpy as np\n",
        "\n",
        "# Define hyperparameter grid for RandomizedSearchCV\n",
        "param_dist = {\n",
        "    \"classifier__n_estimators\": [50, 100, 200],\n",
        "    \"classifier__max_depth\": [None, 10, 20],\n",
        "    \"classifier__min_samples_split\": [2, 5, 10],\n",
        "    \"classifier__min_samples_leaf\": [1, 2, 4],\n",
        "}\n",
        "\n",
        "# Perform Randomized Search with Cross-Validation\n",
        "random_search = RandomizedSearchCV(\n",
        "    pipeline, param_distributions=param_dist,\n",
        "    n_iter=20, cv=3, scoring=\"accuracy\", n_jobs=-1, random_state=27, verbose=1\n",
        ")\n",
        "random_search.fit(X_train, y_train)\n",
        "# Retrieve best hyperparameters and best score\n",
        "best_params_random = random_search.best_params_\n",
        "best_score_random = random_search.best_score_\n",
        "\n",
        "best_params_random, best_score_random"
      ],
      "metadata": {
        "colab": {
          "base_uri": "https://localhost:8080/"
        },
        "id": "rJY5EIrE6Zs6",
        "outputId": "02add1ad-0d1b-46d3-a868-5b5fa2d6c6e0"
      },
      "execution_count": null,
      "outputs": [
        {
          "output_type": "stream",
          "name": "stdout",
          "text": [
            "Fitting 3 folds for each of 20 candidates, totalling 60 fits\n"
          ]
        },
        {
          "output_type": "execute_result",
          "data": {
            "text/plain": [
              "({'classifier__n_estimators': 100,\n",
              "  'classifier__min_samples_split': 2,\n",
              "  'classifier__min_samples_leaf': 1,\n",
              "  'classifier__max_depth': None},\n",
              " 0.8701570894099023)"
            ]
          },
          "metadata": {},
          "execution_count": 11
        }
      ]
    },
    {
      "cell_type": "markdown",
      "source": [
        "# Identify which features contribute the most."
      ],
      "metadata": {
        "id": "1UODPINF_Ern"
      }
    },
    {
      "cell_type": "code",
      "source": [],
      "metadata": {
        "id": "ZH-NDK5v_EWY"
      },
      "execution_count": null,
      "outputs": []
    },
    {
      "cell_type": "code",
      "source": [
        "# Get feature names dynamically\n",
        "num_feature_names = numerical_features\n",
        "cat_feature_names = optimized_pipeline.named_steps[\"preprocessor\"].named_transformers_[\"cat\"].get_feature_names_out(categorical_features)\n",
        "text_title_feature_names = [f\"Title_TFIDF_{i}\" for i in range(500)]  # TF-IDF vectorizer max_features=500\n",
        "text_review_feature_names = [f\"Review_Text_TFIDF_{i}\" for i in range(500)]  # TF-IDF vectorizer max_features=500\n",
        "\n",
        "# Combine all feature names\n",
        "all_feature_names = np.concatenate([num_feature_names, cat_feature_names, text_title_feature_names, text_review_feature_names])\n",
        "\n",
        "# Ensure matching length with feature importances\n",
        "feature_importances = optimized_pipeline.named_steps[\"classifier\"].feature_importances_\n",
        "\n",
        "# Create DataFrame for visualization\n",
        "feature_importance_df = pd.DataFrame(\n",
        "    {\"Feature\": all_feature_names[:len(feature_importances)], \"Importance\": feature_importances}\n",
        ").sort_values(by=\"Importance\", ascending=False)\n",
        "\n",
        "# Plot feature importances\n",
        "plt.figure(figsize=(12, 6))\n",
        "plt.barh(feature_importance_df[\"Feature\"][:15], feature_importance_df[\"Importance\"][:15])\n",
        "plt.xlabel(\"Importance\")\n",
        "plt.ylabel(\"Feature\")\n",
        "plt.title(\"Top 15 Feature Importances in RandomForest Model\")\n",
        "plt.gca().invert_yaxis()\n",
        "plt.show()\n",
        "\n"
      ],
      "metadata": {
        "colab": {
          "base_uri": "https://localhost:8080/",
          "height": 564
        },
        "id": "mvMmEsz5_DJe",
        "outputId": "a3eaa99f-e560-4548-c216-d8f9b886c092"
      },
      "execution_count": null,
      "outputs": [
        {
          "output_type": "display_data",
          "data": {
            "text/plain": [
              "<Figure size 1200x600 with 1 Axes>"
            ],
            "image/png": "[encoded data removed]"
          },
          "metadata": {}
        }
      ]
    },
    {
      "cell_type": "code",
      "source": [
        "from xgboost import XGBClassifier\n",
        "from sklearn.linear_model import LogisticRegression\n",
        "from sklearn.metrics import accuracy_score\n",
        "\n",
        "# Define XGBoost pipeline\n",
        "xgb_pipeline = Pipeline(\n",
        "    steps=[\n",
        "        (\"preprocessor\", preprocessor),\n",
        "        (\"classifier\", XGBClassifier(\n",
        "            n_estimators=200,\n",
        "            max_depth=6,\n",
        "            learning_rate=0.1,\n",
        "            use_label_encoder=False,\n",
        "            eval_metric=\"logloss\",\n",
        "            random_state=27\n",
        "        )),\n",
        "    ]\n",
        ")\n",
        "\n",
        "# Train XGBoost pipeline\n",
        "xgb_pipeline.fit(X_train, y_train)\n",
        "xgb_pred = xgb_pipeline.predict(X_test)\n",
        "xgb_accuracy = accuracy_score(y_test, xgb_pred)\n",
        "\n",
        "# Define Logistic Regression pipeline\n",
        "logreg_pipeline = Pipeline(\n",
        "    steps=[\n",
        "        (\"preprocessor\", preprocessor),\n",
        "        (\"classifier\", LogisticRegression(max_iter=1000, random_state=27)),\n",
        "    ]\n",
        ")\n",
        "\n",
        "# Train Logistic Regression pipeline\n",
        "logreg_pipeline.fit(X_train, y_train)\n",
        "logreg_pred = logreg_pipeline.predict(X_test)\n",
        "logreg_accuracy = accuracy_score(y_test, logreg_pred)\n",
        "\n",
        "# Display accuracy results\n",
        "xgb_accuracy, logreg_accuracy\n"
      ],
      "metadata": {
        "colab": {
          "base_uri": "https://localhost:8080/"
        },
        "id": "YXc-8LMO_r3d",
        "outputId": "e8ccf91b-884a-463f-b27e-371a3ba5d9aa"
      },
      "execution_count": null,
      "outputs": [
        {
          "output_type": "stream",
          "name": "stderr",
          "text": [
            "/usr/local/lib/python3.11/dist-packages/xgboost/core.py:158: UserWarning: [05:19:31] WARNING: /workspace/src/learner.cc:740: \n",
            "Parameters: { \"use_label_encoder\" } are not used.\n",
            "\n",
            "  warnings.warn(smsg, UserWarning)\n"
          ]
        },
        {
          "output_type": "execute_result",
          "data": {
            "text/plain": [
              "(0.8899728997289973, 0.8964769647696477)"
            ]
          },
          "metadata": {},
          "execution_count": 14
        }
      ]
    },
    {
      "cell_type": "code",
      "source": [
        "# Re-load necessary libraries and dataset after execution reset\n",
        "import pandas as pd\n",
        "from sklearn.model_selection import train_test_split, RandomizedSearchCV\n",
        "from sklearn.pipeline import Pipeline\n",
        "from sklearn.compose import ColumnTransformer\n",
        "from sklearn.preprocessing import OneHotEncoder, StandardScaler\n",
        "from sklearn.feature_extraction.text import TfidfVectorizer\n",
        "from xgboost import XGBClassifier\n",
        "\n",
        "import tensorflow as tf\n",
        "from tensorflow.keras.models import Sequential\n",
        "from tensorflow.keras.layers import Embedding, LSTM, Dense, Dropout, SpatialDropout1D\n",
        "from tensorflow.keras.preprocessing.text import Tokenizer\n",
        "from tensorflow.keras.preprocessing.sequence import pad_sequences\n",
        "\n",
        "# Reload dataset\n",
        "file_path = \"sample_data/reviews.csv\"\n",
        "df = pd.read_csv(file_path)\n",
        "\n",
        "# Define features (X) and target (y)\n",
        "X = df.drop(\"Recommended IND\", axis=1)\n",
        "y = df[\"Recommended IND\"]\n",
        "\n",
        "# Split into training and test sets\n",
        "X_train, X_test, y_train, y_test = train_test_split(\n",
        "    X, y, test_size=0.1, shuffle=True, random_state=27\n",
        ")\n",
        "\n",
        "# Define feature groups\n",
        "numerical_features = [\"Age\", \"Positive Feedback Count\"]\n",
        "categorical_features = [\"Division Name\", \"Department Name\", \"Class Name\"]\n",
        "text_features = [\"Title\", \"Review Text\"]\n",
        "\n",
        "# Define transformations\n",
        "numerical_transformer = StandardScaler()\n",
        "categorical_transformer = OneHotEncoder(handle_unknown=\"ignore\")\n",
        "text_transformer = TfidfVectorizer(stop_words=\"english\", max_features=500)\n",
        "\n",
        "# Column transformer to preprocess different feature types\n",
        "preprocessor = ColumnTransformer(\n",
        "    transformers=[\n",
        "        (\"num\", numerical_transformer, numerical_features),\n",
        "        (\"cat\", categorical_transformer, categorical_features),\n",
        "        (\"text_title\", text_transformer, \"Title\"),\n",
        "        (\"text_review\", text_transformer, \"Review Text\"),\n",
        "    ]\n",
        ")\n",
        "\n",
        "# Define XGBoost pipeline\n",
        "xgb_pipeline = Pipeline(\n",
        "    steps=[\n",
        "        (\"preprocessor\", preprocessor),\n",
        "        (\"classifier\", XGBClassifier(\n",
        "            n_estimators=200,\n",
        "            max_depth=6,\n",
        "            learning_rate=0.1,\n",
        "            use_label_encoder=False,\n",
        "            eval_metric=\"logloss\",\n",
        "            random_state=27\n",
        "        )),\n",
        "    ]\n",
        ")\n",
        "\n",
        "# Define hyperparameter grid for RandomizedSearchCV\n",
        "xgb_param_dist = {\n",
        "    \"classifier__n_estimators\": [100, 200, 300],\n",
        "    \"classifier__max_depth\": [3, 6, 10],\n",
        "    \"classifier__learning_rate\": [0.01, 0.1, 0.2],\n",
        "    \"classifier__subsample\": [0.7, 0.8, 1.0],\n",
        "    \"classifier__colsample_bytree\": [0.7, 0.8, 1.0],\n",
        "}\n",
        "\n",
        "# Perform Randomized Search for XGBoost\n",
        "xgb_random_search = RandomizedSearchCV(\n",
        "    xgb_pipeline, param_distributions=xgb_param_dist,\n",
        "    n_iter=10, cv=3, scoring=\"accuracy\", n_jobs=-1, random_state=27, verbose=1\n",
        ")\n",
        "\n",
        "xgb_random_search.fit(X_train, y_train)\n",
        "\n",
        "# Retrieve best hyperparameters and best score for XGBoost\n",
        "best_xgb_params = xgb_random_search.best_params_\n",
        "best_xgb_score = xgb_random_search.best_score_\n",
        "\n",
        "# Tokenizing text data for deep learning\n",
        "tokenizer = Tokenizer(num_words=5000, oov_token=\"<OOV>\")\n",
        "tokenizer.fit_on_texts(X_train[\"Review Text\"])\n",
        "\n",
        "# Convert text to sequences\n",
        "X_train_seq = tokenizer.texts_to_sequences(X_train[\"Review Text\"])\n",
        "X_test_seq = tokenizer.texts_to_sequences(X_test[\"Review Text\"])\n",
        "\n",
        "# Pad sequences for consistent input shape\n",
        "max_length = 200\n",
        "X_train_padded = pad_sequences(X_train_seq, maxlen=max_length, padding=\"post\", truncating=\"post\")\n",
        "X_test_padded = pad_sequences(X_test_seq, maxlen=max_length, padding=\"post\", truncating=\"post\")\n",
        "\n",
        "# Convert target labels to numpy arrays\n",
        "y_train_array = y_train.to_numpy()\n",
        "y_test_array = y_test.to_numpy()\n",
        "\n",
        "# Build LSTM model\n",
        "lstm_model = Sequential([\n",
        "    Embedding(input_dim=5000, output_dim=128, input_length=max_length),\n",
        "    SpatialDropout1D(0.2),\n",
        "    LSTM(64, dropout=0.2, recurrent_dropout=0.2),\n",
        "    Dense(32, activation=\"relu\"),\n",
        "    Dropout(0.5),\n",
        "    Dense(1, activation=\"sigmoid\")\n",
        "])\n",
        "\n",
        "# Compile model\n",
        "lstm_model.compile(loss=\"binary_crossentropy\", optimizer=\"adam\", metrics=[\"accuracy\"])\n",
        "\n",
        "# Train LSTM model\n",
        "lstm_model.fit(X_train_padded, y_train_array, epochs=5, batch_size=32, validation_data=(X_test_padded, y_test_array))\n",
        "\n",
        "# Evaluate LSTM model\n",
        "lstm_loss, lstm_accuracy = lstm_model.evaluate(X_test_padded, y_test_array)\n",
        "\n",
        "# Return XGBoost and LSTM results\n",
        "best_xgb_params, best_xgb_score, lstm_accuracy\n"
      ],
      "metadata": {
        "colab": {
          "base_uri": "https://localhost:8080/"
        },
        "id": "2rJ_4I2zBPk6",
        "outputId": "624e1744-fc78-45ad-ad80-6735540b41f6"
      },
      "execution_count": null,
      "outputs": [
        {
          "output_type": "stream",
          "name": "stdout",
          "text": [
            "Fitting 3 folds for each of 10 candidates, totalling 30 fits\n"
          ]
        },
        {
          "output_type": "stream",
          "name": "stderr",
          "text": [
            "/usr/local/lib/python3.11/dist-packages/xgboost/core.py:158: UserWarning: [05:30:55] WARNING: /workspace/src/learner.cc:740: \n",
            "Parameters: { \"use_label_encoder\" } are not used.\n",
            "\n",
            "  warnings.warn(smsg, UserWarning)\n"
          ]
        },
        {
          "output_type": "stream",
          "name": "stdout",
          "text": [
            "Epoch 1/5\n"
          ]
        },
        {
          "output_type": "stream",
          "name": "stderr",
          "text": [
            "/usr/local/lib/python3.11/dist-packages/keras/src/layers/core/embedding.py:90: UserWarning: Argument `input_length` is deprecated. Just remove it.\n",
            "  warnings.warn(\n"
          ]
        },
        {
          "output_type": "stream",
          "name": "stdout",
          "text": [
            "\u001b[1m519/519\u001b[0m \u001b[32m━━━━━━━━━━━━━━━━━━━━\u001b[0m\u001b[37m\u001b[0m \u001b[1m89s\u001b[0m 165ms/step - accuracy: 0.8133 - loss: 0.5083 - val_accuracy: 0.8228 - val_loss: 0.4676\n",
            "Epoch 2/5\n",
            "\u001b[1m519/519\u001b[0m \u001b[32m━━━━━━━━━━━━━━━━━━━━\u001b[0m\u001b[37m\u001b[0m \u001b[1m142s\u001b[0m 166ms/step - accuracy: 0.8143 - loss: 0.4942 - val_accuracy: 0.8228 - val_loss: 0.4723\n",
            "Epoch 3/5\n",
            "\u001b[1m519/519\u001b[0m \u001b[32m━━━━━━━━━━━━━━━━━━━━\u001b[0m\u001b[37m\u001b[0m \u001b[1m140s\u001b[0m 163ms/step - accuracy: 0.8153 - loss: 0.4868 - val_accuracy: 0.8228 - val_loss: 0.4673\n",
            "Epoch 4/5\n",
            "\u001b[1m519/519\u001b[0m \u001b[32m━━━━━━━━━━━━━━━━━━━━\u001b[0m\u001b[37m\u001b[0m \u001b[1m142s\u001b[0m 163ms/step - accuracy: 0.8155 - loss: 0.4847 - val_accuracy: 0.8228 - val_loss: 0.4705\n",
            "Epoch 5/5\n",
            "\u001b[1m519/519\u001b[0m \u001b[32m━━━━━━━━━━━━━━━━━━━━\u001b[0m\u001b[37m\u001b[0m \u001b[1m142s\u001b[0m 164ms/step - accuracy: 0.8122 - loss: 0.4909 - val_accuracy: 0.8228 - val_loss: 0.4672\n",
            "\u001b[1m58/58\u001b[0m \u001b[32m━━━━━━━━━━━━━━━━━━━━\u001b[0m\u001b[37m\u001b[0m \u001b[1m2s\u001b[0m 27ms/step - accuracy: 0.8181 - loss: 0.4743\n"
          ]
        },
        {
          "output_type": "execute_result",
          "data": {
            "text/plain": [
              "({'classifier__subsample': 1.0,\n",
              "  'classifier__n_estimators': 200,\n",
              "  'classifier__max_depth': 10,\n",
              "  'classifier__learning_rate': 0.2,\n",
              "  'classifier__colsample_bytree': 0.8},\n",
              " 0.8882927701653093,\n",
              " 0.8227642178535461)"
            ]
          },
          "metadata": {},
          "execution_count": 15
        }
      ]
    }
  ],
  "metadata": {
    "kernelspec": {
      "display_name": "udacity-dsnd-proj",
      "language": "python",
      "name": "python3"
    },
    "language_info": {
      "codemirror_mode": {
        "name": "ipython",
        "version": 3
      },
      "file_extension": ".py",
      "mimetype": "text/x-python",
      "name": "python",
      "nbconvert_exporter": "python",
      "pygments_lexer": "ipython3",
      "version": "3.10.15"
    },
    "colab": {
      "provenance": [],
      "include_colab_link": true
    }
  },
  "nbformat": 4,
  "nbformat_minor": 0
}